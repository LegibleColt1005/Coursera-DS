{
 "cells": [
  {
   "cell_type": "markdown",
   "id": "8d522a23",
   "metadata": {},
   "source": [
    "# Data Science Tools and Ecosystem"
   ]
  },
  {
   "cell_type": "markdown",
   "id": "6a69969f",
   "metadata": {},
   "source": [
    "In this notebook, Data Science Tools and Ecosystem are summarized."
   ]
  },
  {
   "cell_type": "markdown",
   "id": "034db1a8",
   "metadata": {},
   "source": [
    "Some of the popular languages that Data Scientist use are\n",
    "1. Python\n",
    "2. R\n",
    "3. Julia"
   ]
  },
  {
   "cell_type": "markdown",
   "id": "f40862ba",
   "metadata": {},
   "source": [
    "Some of the commonly used libraries used by Dara Scientists include:\n",
    "1. Matplotlib\n",
    "2. Scikit-learn\n",
    "3. PyTorch\n",
    "4. ggplot2 "
   ]
  },
  {
   "cell_type": "markdown",
   "id": "5f8963eb",
   "metadata": {},
   "source": [
    "| Data Science Tools |\n",
    "| ------------------ |\n",
    "| JupyterLab |\n",
    "| VS Code |\n",
    "| RStudio |"
   ]
  },
  {
   "cell_type": "markdown",
   "id": "109cbc64",
   "metadata": {},
   "source": [
    "Below are a few examples of evaluating arithmetic expressions in Python"
   ]
  },
  {
   "cell_type": "code",
   "execution_count": 1,
   "id": "58bd1174",
   "metadata": {},
   "outputs": [
    {
     "data": {
      "text/plain": [
       "17"
      ]
     },
     "execution_count": 1,
     "metadata": {},
     "output_type": "execute_result"
    }
   ],
   "source": [
    "#This a simple aritmetic expression to multipy then add integers.\n",
    "\n",
    "(3*4)+5 "
   ]
  },
  {
   "cell_type": "code",
   "execution_count": 5,
   "id": "269aac28",
   "metadata": {
    "scrolled": true
   },
   "outputs": [
    {
     "name": "stdout",
     "output_type": "stream",
     "text": [
      "200 minutes are 3.3333333333333335 hours\n"
     ]
    }
   ],
   "source": [
    "# This will convert 200 minutes to hours by diving by 60\n",
    "minutes = 200\n",
    "hours = minutes / 60\n",
    "print('{} minutes are {} hours'.format(minutes, hours))"
   ]
  },
  {
   "cell_type": "markdown",
   "id": "80dfb62f",
   "metadata": {},
   "source": [
    "**Objectives:**\n",
    "+ Listing popular languages for Data Science\n",
    "+ Listing popular libraries for Data Science\n",
    "+ Table popular Data Science Tools\n",
    "+ Explame of an arithmetic expression in Python\n",
    "+ Code that converts minutes to hours  (Python)"
   ]
  },
  {
   "cell_type": "markdown",
   "id": "7d5881db",
   "metadata": {},
   "source": [
    "## Author\n",
    "Eduardo Patrón A."
   ]
  }
 ],
 "metadata": {
  "kernelspec": {
   "display_name": "Python 3 (ipykernel)",
   "language": "python",
   "name": "python3"
  },
  "language_info": {
   "codemirror_mode": {
    "name": "ipython",
    "version": 3
   },
   "file_extension": ".py",
   "mimetype": "text/x-python",
   "name": "python",
   "nbconvert_exporter": "python",
   "pygments_lexer": "ipython3",
   "version": "3.9.18"
  }
 },
 "nbformat": 4,
 "nbformat_minor": 5
}
